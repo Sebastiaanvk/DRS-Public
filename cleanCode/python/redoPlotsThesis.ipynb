{
 "cells": [
  {
   "cell_type": "code",
   "execution_count": null,
   "id": "98835474",
   "metadata": {},
   "outputs": [],
   "source": [
    "from importlib import reload  as r\n",
    "import auxiliaryDataFunctions as dataplot\n",
    "r(dataplot)"
   ]
  },
  {
   "cell_type": "code",
   "execution_count": null,
   "id": "f44f71b1",
   "metadata": {},
   "outputs": [],
   "source": [
    "r(dataplot)\n",
    "yColumn = \"timeElapsed\"\n",
    "savePlots=True\n",
    "# savePlots=False\n",
    "\n",
    "folderPath = \"../data/results/doubleDegreeAllNightHeuristicTotal\"\n",
    "xColumn = \"nrNodes\"\n",
    "dataplot.folderPlotFinal(folderPath,yColumn,xColumn,savePlots=savePlots)\n",
    "xColumn = \"nrEdges\"\n",
    "dataplot.folderPlotFinal(folderPath,yColumn,xColumn,savePlots=savePlots)\n",
    "xColumn = \"nrLayers\"\n",
    "dataplot.folderPlotFinal(folderPath,yColumn,xColumn,savePlots=savePlots,binsOff=True)\n",
    "\n",
    "folderPath = \"../data/results/allNightVariableNodes\"\n",
    "xColumn = \"nrNodes\"\n",
    "dataplot.folderPlotFinal(folderPath,yColumn,xColumn,savePlots=savePlots)\n",
    "dataplot.dspPlotFolder(folderPath,yColumn,xColumn,savePlots=savePlots)\n",
    "\n",
    "folderPath = \"../data/results/allNightVariableEdgesNew\"\n",
    "xColumn = \"nrEdges\"\n",
    "dataplot.folderPlotFinal(folderPath,yColumn,xColumn,savePlots=savePlots)\n",
    "dataplot.dspPlotFolder(folderPath,yColumn,xColumn,savePlots=savePlots)\n",
    "\n",
    "folderPath = \"../data/results/allNightVariableLayers\"\n",
    "xColumn = \"nrLayers\"\n",
    "dataplot.folderPlotFinal(folderPath,yColumn,xColumn,savePlots=savePlots)\n",
    "dataplot.dspPlotFolder(folderPath,yColumn,xColumn,savePlots=savePlots)\n",
    "\n"
   ]
  },
  {
   "cell_type": "code",
   "execution_count": null,
   "id": "2717c712",
   "metadata": {},
   "outputs": [],
   "source": [
    "r(dataplot)\n",
    "yColumn = \"timeElapsed\"\n",
    "# savePlots=True\n",
    "savePlots=False\n",
    "\n",
    "folderPath = \"../data/results/allNightAllAlgorithmsFast\"\n",
    "xColumn = \"nrNodes\"\n",
    "dataplot.folderPlotFinalOnlyTerminated(folderPath,yColumn,xColumn,savePlots=savePlots)\n",
    "xColumn = \"nrEdges\"\n",
    "dataplot.folderPlotFinalOnlyTerminated(folderPath,yColumn,xColumn,savePlots=savePlots)\n",
    "xColumn = \"nrLayers\"\n",
    "dataplot.folderPlotFinalOnlyTerminated(folderPath,yColumn,xColumn,savePlots=savePlots,binsOff=True)"
   ]
  },
  {
   "cell_type": "code",
   "execution_count": null,
   "id": "0c1f5240",
   "metadata": {},
   "outputs": [],
   "source": [
    "r(dataplot)\n",
    "yColumn = \"objectiveValue\"\n",
    "savePlots=True\n",
    "# savePlots=False\n",
    "\n",
    "folderPath = \"../data/results/doubleDegreeAllNightHeuristicTotal\"\n",
    "xColumn = \"nrNodes\"\n",
    "dataplot.folderPlotFinal(folderPath,yColumn,xColumn,savePlots=savePlots)\n",
    "xColumn = \"nrEdges\"\n",
    "dataplot.folderPlotFinal(folderPath,yColumn,xColumn,savePlots=savePlots)\n",
    "xColumn = \"nrLayers\"\n",
    "dataplot.folderPlotFinal(folderPath,yColumn,xColumn,savePlots=savePlots,binsOff=True)\n",
    "\n",
    "\n",
    "folderPath = \"../data/results/allNightVariableNodes\"\n",
    "xColumn = \"nrNodes\"\n",
    "dataplot.folderPlotFinal(folderPath,yColumn,xColumn,savePlots=savePlots)\n",
    "\n",
    "folderPath = \"../data/results/allNightVariableEdgesNew\"\n",
    "xColumn = \"nrEdges\"\n",
    "dataplot.folderPlotFinal(folderPath,yColumn,xColumn,savePlots=savePlots)\n",
    "\n",
    "folderPath = \"../data/results/allNightVariableLayers\"\n",
    "xColumn = \"nrLayers\"\n",
    "dataplot.folderPlotFinal(folderPath,yColumn,xColumn,savePlots=savePlots)\n",
    "\n",
    "\n",
    "folderPath = \"../data/results/allNightAllAlgorithmsFast\"\n",
    "xColumn = \"nrNodes\"\n",
    "dataplot.folderPlotFinal(folderPath,yColumn,xColumn,savePlots=savePlots)\n",
    "xColumn = \"nrEdges\"\n",
    "dataplot.folderPlotFinal(folderPath,yColumn,xColumn,savePlots=savePlots)\n",
    "xColumn = \"nrLayers\"\n",
    "dataplot.folderPlotFinal(folderPath,yColumn,xColumn,savePlots=savePlots,binsOff=True)"
   ]
  },
  {
   "cell_type": "code",
   "execution_count": null,
   "id": "2ff97040",
   "metadata": {},
   "outputs": [],
   "source": []
  },
  {
   "cell_type": "code",
   "execution_count": null,
   "id": "a3610bef",
   "metadata": {},
   "outputs": [],
   "source": []
  }
 ],
 "metadata": {
  "kernelspec": {
   "display_name": "Python 3",
   "language": "python",
   "name": "python3"
  },
  "language_info": {
   "codemirror_mode": {
    "name": "ipython",
    "version": 3
   },
   "file_extension": ".py",
   "mimetype": "text/x-python",
   "name": "python",
   "nbconvert_exporter": "python",
   "pygments_lexer": "ipython3",
   "version": "3.8.10"
  }
 },
 "nbformat": 4,
 "nbformat_minor": 5
}
